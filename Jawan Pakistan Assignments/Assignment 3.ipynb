{
 "cells": [
  {
   "cell_type": "code",
   "execution_count": 3,
   "id": "0b5542f5",
   "metadata": {},
   "outputs": [
    {
     "name": "stdout",
     "output_type": "stream",
     "text": [
      "Twinkle, twinkle, little star,\n",
      "\tHow I wonder what you are!\n",
      "\t\tUp above the world so high,\n",
      "\t\tLike a diamond in the sky.\n",
      "Twinkle, twinkle, little star,\n",
      "\tHow I wonder what you are!\n"
     ]
    }
   ],
   "source": [
    "# Task : 1\n",
    "\n",
    "print(\"Twinkle, twinkle, little star,\")\n",
    "print(\"\\tHow I wonder what you are!\")\n",
    "print(\"\\t\\tUp above the world so high,\")\n",
    "print(\"\\t\\tLike a diamond in the sky.\")\n",
    "print(\"Twinkle, twinkle, little star,\")\n",
    "print(\"\\tHow I wonder what you are!\")"
   ]
  },
  {
   "cell_type": "code",
   "execution_count": 4,
   "id": "3e487e0e",
   "metadata": {},
   "outputs": [
    {
     "name": "stdout",
     "output_type": "stream",
     "text": [
      "Python version : 3.8.8 (default, Apr 13 2021, 15:08:03) [MSC v.1916 64 bit (AMD64)]\n"
     ]
    }
   ],
   "source": [
    "# Task : 2\n",
    "\n",
    "import sys\n",
    "\n",
    "print(\"Python version :\", sys.version)"
   ]
  },
  {
   "cell_type": "code",
   "execution_count": 13,
   "id": "05560167",
   "metadata": {},
   "outputs": [
    {
     "name": "stdout",
     "output_type": "stream",
     "text": [
      "Current date and time is :\n",
      "21-10-23 20:01:22\n"
     ]
    }
   ],
   "source": [
    "# Task : 3\n",
    "\n",
    "import datetime\n",
    "\n",
    "Current_date_time = datetime.datetime.now()\n",
    "\n",
    "print(\"Current date and time is :\")\n",
    "print(Current_date_time.strftime(\"%y-%m-%d %H:%M:%S\"))"
   ]
  },
  {
   "cell_type": "code",
   "execution_count": 6,
   "id": "4bd62f47",
   "metadata": {},
   "outputs": [
    {
     "name": "stdout",
     "output_type": "stream",
     "text": [
      "Enter the radius of a circle : 5\n",
      "Area of a circle : 78.5\n"
     ]
    }
   ],
   "source": [
    "# Task : 4\n",
    "\n",
    "Radius = float(input(\"Enter the radius of a circle : \"))\n",
    "\n",
    "Area = 3.14*Radius**2\n",
    "\n",
    "print(\"Area of a circle :\" , Area)"
   ]
  },
  {
   "cell_type": "code",
   "execution_count": 7,
   "id": "8b958feb",
   "metadata": {},
   "outputs": [
    {
     "name": "stdout",
     "output_type": "stream",
     "text": [
      "Enter your first name : Bilal\n",
      "Enter your last name : Shaikh\n",
      "Shaikh Bilal\n"
     ]
    }
   ],
   "source": [
    "# Task : 5\n",
    "\n",
    "First_name = input(\"Enter your first name : \")\n",
    "Last_name  = input(\"Enter your last name : \")\n",
    "\n",
    "print(Last_name + \" \" + First_name)"
   ]
  },
  {
   "cell_type": "code",
   "execution_count": 8,
   "id": "4edffbb8",
   "metadata": {},
   "outputs": [
    {
     "name": "stdout",
     "output_type": "stream",
     "text": [
      "Enter first number : 56\n",
      "Enter second number : 2\n",
      "Addition : 58\n"
     ]
    }
   ],
   "source": [
    "# Task : 6 \n",
    "\n",
    "num1 = int(input(\"Enter first number : \"))\n",
    "num2 = int(input(\"Enter second number : \"))\n",
    "\n",
    "Addition = num1 + num2\n",
    "\n",
    "print(\"Addition :\" , Addition)\n"
   ]
  },
  {
   "cell_type": "code",
   "execution_count": 1,
   "id": "4d496caf",
   "metadata": {
    "scrolled": true
   },
   "outputs": [
    {
     "name": "stdout",
     "output_type": "stream",
     "text": [
      "Enter your English marks : 78\n",
      "Enter your Urdu marks : 78\n",
      "Enter your Math marks : 65\n",
      "Enter your Islamiyat marks : 56\n",
      "Enter your Science marks : 99\n",
      "\n",
      "**************************************************** MARKSHEET ****************************************************\n",
      "Name \t\t\t English  Urdu \t Mathematics \t Islamiyat \t Science \t Percentage \t Grade\n",
      "Muhammad Faizan Ahmed \t 78 \t  78 \t 65 \t\t 56 \t\t 99 \t\t 75.2 \t\t A\n"
     ]
    }
   ],
   "source": [
    "# Task : 7\n",
    "\n",
    "English_marks   = int(input(\"Enter your English marks : \"))\n",
    "Urdu_marks      = int(input(\"Enter your Urdu marks : \"))\n",
    "Math_marks      = int(input(\"Enter your Math marks : \"))\n",
    "Islamiyat_marks = int(input(\"Enter your Islamiyat marks : \"))\n",
    "Science_marks   = int(input(\"Enter your Science marks : \"))\n",
    "\n",
    "Total_marks     = 500\n",
    "Obtained_marks  = English_marks + Urdu_marks + Math_marks + Islamiyat_marks + Science_marks\n",
    "\n",
    "Percentage      = (Obtained_marks/Total_marks)*100\n",
    "\n",
    "Grade           = \"\"\n",
    "\n",
    "if ( Percentage >= 80 and Percentage <= 100 ):\n",
    "    Grade = \"A+\"\n",
    "    \n",
    "elif( Percentage >= 70 and Percentage < 80 ):\n",
    "    Grade = \"A\"\n",
    "    \n",
    "elif( Percentage >= 60 and Percentage < 70 ):\n",
    "    Grade = \"B\"\n",
    "    \n",
    "elif( Percentage >= 50 and Percentage < 60 ):\n",
    "    Grade = \"C\"\n",
    "    \n",
    "elif( Percentage >= 40 and Percentage < 50 ):\n",
    "    Grade = \"D\"\n",
    "    \n",
    "elif( Percentage >= 33 and Percentage < 40 ):\n",
    "    Grade = \"E\"\n",
    "    \n",
    "elif( Percentage < 0 or Percentage > 100 ):\n",
    "    Grade = \"Invalid Grade\"\n",
    "\n",
    "else :\n",
    "    Grade = \"Fail\"\n",
    "    \n",
    "# Now generating Marksheet\n",
    "\n",
    "print(\"\\n**************************************************** MARKSHEET ****************************************************\")\n",
    "print(\"Name \\t\\t\\t English  Urdu \\t Mathematics \\t Islamiyat \\t Science \\t Percentage \\t Grade\")\n",
    "print(\"Muhammad Faizan Ahmed \\t {0} \\t  {1} \\t {2} \\t\\t {3} \\t\\t {4} \\t\\t {5} \\t\\t {6}\".format(English_marks, Urdu_marks, Math_marks, Islamiyat_marks, Science_marks, Percentage,Grade))"
   ]
  },
  {
   "cell_type": "code",
   "execution_count": 2,
   "id": "cc82fdb5",
   "metadata": {},
   "outputs": [
    {
     "name": "stdout",
     "output_type": "stream",
     "text": [
      "Enter a number : 55\n",
      "55 is an Odd number.\n"
     ]
    }
   ],
   "source": [
    "# Task : 8\n",
    "\n",
    "num = int(input(\"Enter a number : \"))\n",
    "\n",
    "if num % 2 == 0 :\n",
    "    print(num , \"is an Even number.\")\n",
    "    \n",
    "else :\n",
    "    print(num , \"is an Odd number.\")"
   ]
  },
  {
   "cell_type": "code",
   "execution_count": 9,
   "id": "31c062fd",
   "metadata": {},
   "outputs": [
    {
     "name": "stdout",
     "output_type": "stream",
     "text": [
      "10\n"
     ]
    }
   ],
   "source": [
    "# Task : 9 \n",
    "\n",
    "a = [1, 2, 10, 55, 8, 13, 21, 34, 55, 89]\n",
    "\n",
    "print(len(a))"
   ]
  },
  {
   "cell_type": "code",
   "execution_count": 10,
   "id": "23973dba",
   "metadata": {},
   "outputs": [
    {
     "name": "stdout",
     "output_type": "stream",
     "text": [
      "Sum = 289\n"
     ]
    }
   ],
   "source": [
    "# Task : 10\n",
    "\n",
    "a = [1, 2, 10, 55, 8, 14, 21, 34, 55, 89]\n",
    "sum = 0\n",
    "\n",
    "for i in a :\n",
    "    sum += i\n",
    "\n",
    "print(\"Sum =\" , sum)"
   ]
  },
  {
   "cell_type": "code",
   "execution_count": 11,
   "id": "7713c6e1",
   "metadata": {},
   "outputs": [
    {
     "name": "stdout",
     "output_type": "stream",
     "text": [
      "Largest number in a list is : 234\n"
     ]
    }
   ],
   "source": [
    "# Task : 11\n",
    "\n",
    "a = [11, 2, 10, 15, 8, 13, 21, 234, 155, 89]\n",
    "\n",
    "print(\"Largest number in a list is :\", max(a))"
   ]
  },
  {
   "cell_type": "code",
   "execution_count": 12,
   "id": "cf6c3cbd",
   "metadata": {},
   "outputs": [
    {
     "name": "stdout",
     "output_type": "stream",
     "text": [
      "1\n",
      "1\n",
      "2\n",
      "3\n"
     ]
    }
   ],
   "source": [
    "# Task : 12\n",
    "\n",
    "a = [1, 1, 2, 3, 5, 8, 13, 21, 34, 55, 89]\n",
    "\n",
    "for i in a :\n",
    "    if i < 5 :\n",
    "        print(i)"
   ]
  }
 ],
 "metadata": {
  "kernelspec": {
   "display_name": "Python 3",
   "language": "python",
   "name": "python3"
  },
  "language_info": {
   "codemirror_mode": {
    "name": "ipython",
    "version": 3
   },
   "file_extension": ".py",
   "mimetype": "text/x-python",
   "name": "python",
   "nbconvert_exporter": "python",
   "pygments_lexer": "ipython3",
   "version": "3.8.8"
  }
 },
 "nbformat": 4,
 "nbformat_minor": 5
}
