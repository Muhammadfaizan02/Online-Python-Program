{
 "cells": [
  {
   "cell_type": "code",
   "execution_count": 1,
   "id": "de082285",
   "metadata": {},
   "outputs": [
    {
     "name": "stdout",
     "output_type": "stream",
     "text": [
      "Twinkle, twinkle, little star,\n",
      "\tHow I wonder what you are!\n",
      "\t\tUp above the world so high,\n",
      "\t\tLike a diamond in the sky.\n",
      "Twinkle, twinkle, little star,\n",
      "\tHow I wonder what you are!\n"
     ]
    }
   ],
   "source": [
    "# Task : 1\n",
    "\n",
    "print(\"Twinkle, twinkle, little star,\")\n",
    "print(\"\\tHow I wonder what you are!\")\n",
    "print(\"\\t\\tUp above the world so high,\")\n",
    "print(\"\\t\\tLike a diamond in the sky.\")\n",
    "print(\"Twinkle, twinkle, little star,\")\n",
    "print(\"\\tHow I wonder what you are!\")"
   ]
  },
  {
   "cell_type": "code",
   "execution_count": 2,
   "id": "acf7f452",
   "metadata": {},
   "outputs": [
    {
     "name": "stdout",
     "output_type": "stream",
     "text": [
      "Python version : 3.8.8 (default, Apr 13 2021, 15:08:03) [MSC v.1916 64 bit (AMD64)]\n"
     ]
    }
   ],
   "source": [
    "# Task : 2\n",
    "\n",
    "import sys\n",
    "\n",
    "print(\"Python version :\", sys.version)"
   ]
  },
  {
   "cell_type": "code",
   "execution_count": 3,
   "id": "032c7cbc",
   "metadata": {},
   "outputs": [
    {
     "name": "stdout",
     "output_type": "stream",
     "text": [
      "Current date and time is :\n",
      "22-01-01 22:14:37\n"
     ]
    }
   ],
   "source": [
    "# Task : 3\n",
    "\n",
    "import datetime\n",
    "\n",
    "Current_date_time = datetime.datetime.now()\n",
    "\n",
    "print(\"Current date and time is :\")\n",
    "print(Current_date_time.strftime(\"%y-%m-%d %H:%M:%S\"))"
   ]
  },
  {
   "cell_type": "code",
   "execution_count": 4,
   "id": "218ecf08",
   "metadata": {},
   "outputs": [
    {
     "name": "stdout",
     "output_type": "stream",
     "text": [
      "Enter the radius of a circle : 5\n",
      "Area of a circle : 78.5\n"
     ]
    }
   ],
   "source": [
    "# Task : 4\n",
    "\n",
    "Radius = float(input(\"Enter the radius of a circle : \"))\n",
    "\n",
    "Area = 3.14*Radius**2\n",
    "\n",
    "print(\"Area of a circle :\" , Area)"
   ]
  },
  {
   "cell_type": "code",
   "execution_count": 5,
   "id": "94ad782c",
   "metadata": {},
   "outputs": [
    {
     "name": "stdout",
     "output_type": "stream",
     "text": [
      "Enter your first name : muhammad\n",
      "Enter your last name : Faizan\n",
      "Faizan muhammad\n"
     ]
    }
   ],
   "source": [
    "# Task : 5\n",
    "\n",
    "First_name = input(\"Enter your first name : \")\n",
    "Last_name  = input(\"Enter your last name : \")\n",
    "\n",
    "print(Last_name + \" \" + First_name)"
   ]
  },
  {
   "cell_type": "code",
   "execution_count": 6,
   "id": "f736fbcf",
   "metadata": {},
   "outputs": [
    {
     "name": "stdout",
     "output_type": "stream",
     "text": [
      "Enter first number : 56\n",
      "Enter second number : 4\n",
      "Addition : 60\n"
     ]
    }
   ],
   "source": [
    "# Task : 6 \n",
    "\n",
    "num1 = int(input(\"Enter first number : \"))\n",
    "num2 = int(input(\"Enter second number : \"))\n",
    "\n",
    "Addition = num1 + num2\n",
    "\n",
    "print(\"Addition :\" , Addition)\n"
   ]
  },
  {
   "cell_type": "code",
   "execution_count": null,
   "id": "f3eeeeeb",
   "metadata": {},
   "outputs": [],
   "source": []
  }
 ],
 "metadata": {
  "kernelspec": {
   "display_name": "Python 3",
   "language": "python",
   "name": "python3"
  },
  "language_info": {
   "codemirror_mode": {
    "name": "ipython",
    "version": 3
   },
   "file_extension": ".py",
   "mimetype": "text/x-python",
   "name": "python",
   "nbconvert_exporter": "python",
   "pygments_lexer": "ipython3",
   "version": "3.8.8"
  }
 },
 "nbformat": 4,
 "nbformat_minor": 5
}
