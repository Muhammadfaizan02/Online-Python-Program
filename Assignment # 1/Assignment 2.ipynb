{
 "cells": [
  {
   "cell_type": "code",
   "execution_count": 48,
   "id": "9545ffcf",
   "metadata": {},
   "outputs": [
    {
     "name": "stdout",
     "output_type": "stream",
     "text": [
      "Grade : A+\n",
      "Percentage :  88.66666666666667 %\n"
     ]
    }
   ],
   "source": [
    "# MARKSHEET\n",
    "\n",
    "Islamiyat_Marks = 90\n",
    "Eng_Marks = 82\n",
    "Math_Marks = 94\n",
    "\n",
    "Total_Marks = 300\n",
    "\n",
    "Obtained_Marks = Islamiyat_Marks + Eng_Marks + Math_Marks # for simplification\n",
    "\n",
    "Percentage = ( Obtained_Marks / Total_Marks ) * 100 \n",
    "\n",
    "if ( Percentage >= 80 and Percentage <= 100 ):\n",
    "    print(\"Grade : A+\")\n",
    "    \n",
    "elif( Percentage >= 70 and Percentage < 80 ):\n",
    "    print(\"Grade : A\")\n",
    "    \n",
    "elif( Percentage >= 60 and Percentage < 70 ):\n",
    "    print(\"Grade : B\")\n",
    "    \n",
    "elif( Percentage >= 50 and Percentage < 60 ):\n",
    "    print(\"Grade : C\")\n",
    "    \n",
    "elif( Percentage >= 40 and Percentage < 50 ):\n",
    "    print(\"Grade : D\")\n",
    "    \n",
    "elif( Percentage >= 33 and Percentage < 40 ):\n",
    "    print(\"Grade : E\")\n",
    "    \n",
    "elif( Percentage < 0 or Percentage > 100 ):\n",
    "    print(\"Invalid Percentage!\")\n",
    "\n",
    "else :\n",
    "    print(\"Grade : FAIL!\")\n",
    "    \n",
    "print(\"Percentage : \",Percentage,\"%\")"
   ]
  },
  {
   "cell_type": "code",
   "execution_count": null,
   "id": "74bc7978",
   "metadata": {},
   "outputs": [],
   "source": []
  }
 ],
 "metadata": {
  "kernelspec": {
   "display_name": "Python 3",
   "language": "python",
   "name": "python3"
  },
  "language_info": {
   "codemirror_mode": {
    "name": "ipython",
    "version": 3
   },
   "file_extension": ".py",
   "mimetype": "text/x-python",
   "name": "python",
   "nbconvert_exporter": "python",
   "pygments_lexer": "ipython3",
   "version": "3.8.8"
  }
 },
 "nbformat": 4,
 "nbformat_minor": 5
}
